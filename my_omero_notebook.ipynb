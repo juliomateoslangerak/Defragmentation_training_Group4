{
 "cells": [
  {
   "cell_type": "markdown",
   "metadata": {
    "pycharm": {
     "name": "#%% md\n"
    }
   },
   "source": [
    "## Importing\n",
    "Let's import ezomero. *ezomero* is a library that easies the programmatic interface to the OMERO database"
   ]
  },
  {
   "cell_type": "code",
   "execution_count": null,
   "metadata": {
    "pycharm": {
     "name": "#%%\n"
    }
   },
   "outputs": [],
   "source": [
    "import ezomero\n",
    "from getpass import getpass\n",
    "import matplotlib.pyplot as plt"
   ]
  },
  {
   "cell_type": "markdown",
   "metadata": {
    "pycharm": {
     "name": "#%% md\n"
    }
   },
   "source": [
    "In order to use OMERO you first need to create a connection. A connection requires a server url, a group to connect to, a user login and a password. Things might get more complicated depending on the security settings of your OMERO server, but as we connect to IDR (https://idr.openmicroscopy.org/) things are just easy.\n",
    "To connect to IDR use:\n",
    "'ws://idr.openmicroscopy.org/omero-ws'\n",
    "'public'\n",
    "'public'\n",
    "Just use 0 as the port and None as the Group to connect to your default group"
   ]
  },
  {
   "cell_type": "code",
   "execution_count": null,
   "metadata": {
    "pycharm": {
     "name": "#%%\n"
    }
   },
   "outputs": [],
   "source": [
    "HOST = str(input(\"host URL: \") or \"ws://idr.openmicroscopy.org/omero-ws\")\n",
    "PORT = 0\n",
    "GROUP = None\n",
    "USER = str(input(\"login: \") or \"public\")\n",
    "PASS = str(getpass(\"password: \") or \"public\")"
   ]
  },
  {
   "cell_type": "markdown",
   "metadata": {
    "pycharm": {
     "name": "#%% md\n"
    }
   },
   "source": [
    "Let's create a connection and connect to the IDR. If the connection is successful you should see a True"
   ]
  },
  {
   "cell_type": "code",
   "execution_count": null,
   "metadata": {
    "pycharm": {
     "name": "#%%\n"
    }
   },
   "outputs": [],
   "source": [
    "conn = ezomero.connect(user=USER, password=PASS, host=HOST, port=PORT, Group=GROUP, secure=True)\n",
    "conn.connect()"
   ]
  },
  {
   "cell_type": "markdown",
   "source": [
    "Using ezomero we can get the id's of all the images in a dataset. For example dataset 11860. These are the iamges you may find here:\n",
    "https://idr.openmicroscopy.org/webclient/?show=dataset-11860"
   ],
   "metadata": {
    "collapsed": false,
    "pycharm": {
     "name": "#%% md\n"
    }
   }
  },
  {
   "cell_type": "code",
   "execution_count": null,
   "outputs": [],
   "source": [
    "image_ids = ezomero.get_image_ids(conn, dataset=11860)\n",
    "print(image_ids[:3])  # print a few image ids"
   ],
   "metadata": {
    "collapsed": false,
    "pycharm": {
     "name": "#%%\n"
    }
   }
  },
  {
   "cell_type": "markdown",
   "source": [
    "and we can get the image wrapper, an representation of the image in the OMERO server (no data downloaded), and the pixel intensities as a numpy array in the order TZYXC"
   ],
   "metadata": {
    "collapsed": false,
    "pycharm": {
     "name": "#%% md\n"
    }
   }
  },
  {
   "cell_type": "code",
   "execution_count": null,
   "outputs": [],
   "source": [
    "image_wrapper, pixels = ezomero.get_image(conn, image_id=image_ids[3])\n",
    "pixels.shape"
   ],
   "metadata": {
    "collapsed": false,
    "pycharm": {
     "name": "#%%\n"
    }
   }
  },
  {
   "cell_type": "markdown",
   "source": [
    "And of course we can plot that image as a MIP for example"
   ],
   "metadata": {
    "collapsed": false,
    "pycharm": {
     "name": "#%% md\n"
    }
   }
  },
  {
   "cell_type": "code",
   "execution_count": null,
   "outputs": [],
   "source": [
    "pixels_mip = pixels.max(axis=1)\n",
    "plt.imshow(pixels_mip)\n",
    "plt.show()"
   ],
   "metadata": {
    "collapsed": false,
    "pycharm": {
     "name": "#%%\n"
    }
   }
  },
  {
   "cell_type": "markdown",
   "source": [
    "From the image wrapper we can get any kind of metadata, like the pixel size"
   ],
   "metadata": {
    "collapsed": false,
    "pycharm": {
     "name": "#%% md\n"
    }
   }
  },
  {
   "cell_type": "code",
   "execution_count": null,
   "outputs": [],
   "source": [
    "# As raw values\n",
    "print(image_wrapper.getPixelSizeX())\n",
    "# As an object containing units\n",
    "pixel_size_X = image_wrapper.getPixelSizeX(units=True)\n",
    "print(f\"Units: {pixel_size_X.getSymbol()}; Value: {pixel_size_X.getValue()}\")"
   ],
   "metadata": {
    "collapsed": false,
    "pycharm": {
     "name": "#%%\n"
    }
   }
  }
 ],
 "metadata": {
  "kernelspec": {
   "display_name": "Python 3 (ipykernel)",
   "language": "python",
   "name": "python3"
  },
  "language_info": {
   "codemirror_mode": {
    "name": "ipython",
    "version": 3
   },
   "file_extension": ".py",
   "mimetype": "text/x-python",
   "name": "python",
   "nbconvert_exporter": "python",
   "pygments_lexer": "ipython3",
   "version": "3.9.13"
  }
 },
 "nbformat": 4,
 "nbformat_minor": 1
}