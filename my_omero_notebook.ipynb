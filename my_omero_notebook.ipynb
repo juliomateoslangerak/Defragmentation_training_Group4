{
 "cells": [
  {
   "cell_type": "markdown",
   "metadata": {
    "pycharm": {
     "name": "#%% md\n"
    }
   },
   "source": [
    "## Importing\n",
    "Let's import ezomero. *ezomero* is a library that easies the programmatic interface to the OMERO database"
   ]
  },
  {
   "cell_type": "code",
   "execution_count": 1,
   "metadata": {
    "pycharm": {
     "name": "#%%\n"
    }
   },
   "outputs": [
    {
     "ename": "ModuleNotFoundError",
     "evalue": "No module named 'ezomero'",
     "output_type": "error",
     "traceback": [
      "\u001B[0;31m---------------------------------------------------------------------------\u001B[0m",
      "\u001B[0;31mModuleNotFoundError\u001B[0m                       Traceback (most recent call last)",
      "Cell \u001B[0;32mIn [1], line 1\u001B[0m\n\u001B[0;32m----> 1\u001B[0m \u001B[38;5;28;01mimport\u001B[39;00m \u001B[38;5;21;01mezomero\u001B[39;00m\n\u001B[1;32m      2\u001B[0m \u001B[38;5;28;01mfrom\u001B[39;00m \u001B[38;5;21;01mgetpass\u001B[39;00m \u001B[38;5;28;01mimport\u001B[39;00m getpass\n",
      "\u001B[0;31mModuleNotFoundError\u001B[0m: No module named 'ezomero'"
     ]
    }
   ],
   "source": [
    "import ezomero\n",
    "from getpass import getpass"
   ]
  },
  {
   "cell_type": "markdown",
   "metadata": {
    "pycharm": {
     "name": "#%% md\n"
    }
   },
   "source": [
    "In order to use OMERO you first need to create a connection. A connection requires a server url, a user login and a password. Things might get more complicated depending on the security settings of your OMERO server, but as we connect to IDR (https://idr.openmicroscopy.org/) things are just easy.\n",
    "To connect to IDR use:\n",
    "\n",
    "'ws://idr.openmicroscopy.org/omero-ws'\n",
    "\n",
    "'public'\n",
    "\n",
    "'public'\n",
    "\n",
    "Just use 0 as the port"
   ]
  },
  {
   "cell_type": "code",
   "execution_count": null,
   "metadata": {
    "pycharm": {
     "name": "#%%\n"
    }
   },
   "outputs": [],
   "source": [
    "HOST = str(input(\"host URL: \") or \"ws://idr.openmicroscopy.org/omero-ws\")\n",
    "PORT = 0\n",
    "USER = str(input(\"login: \") or \"public\")\n",
    "PASS = str(getpass(\"password: \") or \"public\")"
   ]
  },
  {
   "cell_type": "markdown",
   "metadata": {
    "pycharm": {
     "name": "#%% md\n"
    }
   },
   "source": [
    "Let's create a connection and connect to the IDR. If the connection is successful you should see a True"
   ]
  },
  {
   "cell_type": "code",
   "execution_count": null,
   "metadata": {
    "pycharm": {
     "name": "#%%\n"
    }
   },
   "outputs": [],
   "source": [
    "conn = ezomero.connect(user=USER, password=PASS, host=HOST, port=PORT, secure=True)\n",
    "conn.connect()"
   ]
  },
  {
   "cell_type": "markdown",
   "source": [
    "Using ezomero we can get the id's of all the images in a dataset. For example dataset 11860. These are the iamges you may find here:\n",
    "https://idr.openmicroscopy.org/webclient/?show=dataset-11860"
   ],
   "metadata": {
    "collapsed": false,
    "pycharm": {
     "name": "#%% md\n"
    }
   }
  },
  {
   "cell_type": "code",
   "execution_count": null,
   "outputs": [],
   "source": [
    "image_ids = ezomero.get_image_ids(conn, dataset=11860)\n",
    "print(image_ids[:3])  # print a few image ids"
   ],
   "metadata": {
    "collapsed": false,
    "pycharm": {
     "name": "#%%\n"
    }
   }
  },
  {
   "cell_type": "markdown",
   "source": [
    "and we can get the image it self as a numpy array"
   ],
   "metadata": {
    "collapsed": false,
    "pycharm": {
     "name": "#%% md\n"
    }
   }
  },
  {
   "cell_type": "code",
   "execution_count": null,
   "outputs": [],
   "source": [
    "image_data = ezomero.get_image(conn, image_id=image_ids[3])\n",
    "image_data"
   ],
   "metadata": {
    "collapsed": false,
    "pycharm": {
     "name": "#%%\n"
    }
   }
  }
 ],
 "metadata": {
  "kernelspec": {
   "display_name": "Python 3 (ipykernel)",
   "language": "python",
   "name": "python3"
  },
  "language_info": {
   "codemirror_mode": {
    "name": "ipython",
    "version": 3
   },
   "file_extension": ".py",
   "mimetype": "text/x-python",
   "name": "python",
   "nbconvert_exporter": "python",
   "pygments_lexer": "ipython3",
   "version": "3.9.13"
  }
 },
 "nbformat": 4,
 "nbformat_minor": 1
}